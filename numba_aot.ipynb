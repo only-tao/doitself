{
 "cells": [
  {
   "cell_type": "code",
   "execution_count": 34,
   "metadata": {},
   "outputs": [
    {
     "name": "stdout",
     "output_type": "stream",
     "text": [
      "0.00026062650000000073\n"
     ]
    }
   ],
   "source": [
    "from numba import jit, njit\n",
    "from timeit import timeit\n",
    "from ctypes import *\n",
    "from time import strftime,localtime\n",
    "\n",
    "import numpy as np\n",
    "import numpy.ctypeslib as npct\n",
    "\n",
    "# from calMaCY   import calMaCY\n",
    "from calSquareRootAndSquare_AOT  import calSquareRootAndSquare_AOT\n",
    "# from calMaPyC  import calMaPyC\n",
    "# from calMaPyCG import calMaPyC as calMaPyCG\n",
    "subloop = 200\n",
    "strCmd = \"calSquareRootAndSquare_AOT()\"\n",
    "# strSetup = 'from __main__ import {},data,winsize'.format(key) # data,winsize是传入的参数\n",
    "strSetup = 'from __main__ import calSquareRootAndSquare_AOT' # data,winsize是传入的参数\n",
    "\n",
    "tt = timeit(strCmd, setup=strSetup,number = subloop)/subloop\n",
    "print(tt)"
   ]
  },
  {
   "cell_type": "code",
   "execution_count": 36,
   "metadata": {},
   "outputs": [
    {
     "name": "stdout",
     "output_type": "stream",
     "text": [
      "0.2531512799999973\n"
     ]
    }
   ],
   "source": [
    "from calSquareRootAndSquare_CY import calSquareRootAndSquare_CY\n",
    "subloop = 20\n",
    "strCmd = \"calSquareRootAndSquare_CY()\"\n",
    "# strSetup = 'from __main__ import {},data,winsize'.format(key) # data,winsize是传入的参数\n",
    "strSetup = 'from __main__ import calSquareRootAndSquare_CY' # data,winsize是传入的参数\n",
    "\n",
    "tt = timeit(strCmd, setup=strSetup,number = subloop)/subloop\n",
    "print(tt)"
   ]
  },
  {
   "cell_type": "code",
   "execution_count": 4,
   "metadata": {},
   "outputs": [
    {
     "name": "stdout",
     "output_type": "stream",
     "text": [
      "0.29645476200000004\n"
     ]
    }
   ],
   "source": [
    "from timeit import timeit\n",
    "from ctypes import *\n",
    "from time import strftime,localtime\n",
    "\n",
    "from calSquareRootAndSquare_CY_O2 import calSquareRootAndSquare_CY\n",
    "subloop = 20\n",
    "strCmd = \"calSquareRootAndSquare_CY()\"\n",
    "# strSetup = 'from __main__ import {},data,winsize'.format(key) # data,winsize是传入的参数\n",
    "strSetup = 'from __main__ import calSquareRootAndSquare_CY' # data,winsize是传入的参数\n",
    "\n",
    "tt = timeit(strCmd, setup=strSetup,number = subloop)/subloop\n",
    "print(tt)"
   ]
  }
 ],
 "metadata": {
  "kernelspec": {
   "display_name": "pointcloud_conda",
   "language": "python",
   "name": "python3"
  },
  "language_info": {
   "codemirror_mode": {
    "name": "ipython",
    "version": 3
   },
   "file_extension": ".py",
   "mimetype": "text/x-python",
   "name": "python",
   "nbconvert_exporter": "python",
   "pygments_lexer": "ipython3",
   "version": "3.8.18"
  }
 },
 "nbformat": 4,
 "nbformat_minor": 2
}
