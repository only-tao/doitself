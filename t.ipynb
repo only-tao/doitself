{
 "cells": [
  {
   "cell_type": "code",
   "execution_count": 5,
   "metadata": {},
   "outputs": [
    {
     "name": "stdout",
     "output_type": "stream",
     "text": [
      "8.5208777\n",
      "8.603971299999998\n",
      "12.904940199999999\n"
     ]
    }
   ],
   "source": [
    "from timeit import timeit\n",
    "def perf_test(method):\n",
    "    years = range(1900, 2900)\n",
    "    if method == 0:\n",
    "        for y in years:\n",
    "            is_leap_year_0(y)\n",
    "\n",
    "    if method == 1:\n",
    "        for y in years:\n",
    "            is_leap_year_1(y)\n",
    "\n",
    "    if method == 2:\n",
    "        for y in years:\n",
    "            is_leap_year_2(y)\n",
    "\n",
    "print(timeit('perf_test(0)', setup='from __main__ import perf_test', number=100000))\n",
    "print(timeit('perf_test(1)', setup='from __main__ import perf_test', number=100000))\n",
    "print(timeit('perf_test(2)', setup='from __main__ import perf_test', number=100000))"
   ]
  },
  {
   "cell_type": "code",
   "execution_count": 3,
   "metadata": {},
   "outputs": [],
   "source": [
    "def is_leap_year_0(year):\n",
    "    if year % 4 == 0:\n",
    "        if year % 100 == 0:\n",
    "            if year % 400 == 0:\n",
    "                return True\n",
    "            else:\n",
    "                return False\n",
    "        else:\n",
    "            return True\n",
    "    else:\n",
    "        return False\n",
    "\n",
    "\n",
    "def is_leap_year_1(year):\n",
    "    return year % 4 == 0 and (year % 100 != 0 or year % 400 == 0)\n",
    "\n",
    "\n",
    "def is_leap_year_2(year):\n",
    "    if year % 400 == 0:\n",
    "        return True\n",
    "    if year % 100 == 0:\n",
    "        return False\n",
    "    if year % 4 == 0:\n",
    "        return True\n",
    "\n",
    "    return False"
   ]
  },
  {
   "cell_type": "code",
   "execution_count": 30,
   "metadata": {},
   "outputs": [
    {
     "name": "stdout",
     "output_type": "stream",
     "text": [
      "0.3207981150000023\n"
     ]
    }
   ],
   "source": [
    "import math\n",
    "from timeit import timeit \n",
    "def calSquareRootAndSquare():\n",
    "    for i in range(1000000):\n",
    "        result = math.sqrt(i)+ math.pow(i,2)\n",
    "    return result\n",
    "subloop = 20\n",
    "strCmd = \"calSquareRootAndSquare()\"\n",
    "# strSetup = 'from __main__ import {},data,winsize'.format(key) # data,winsize是传入的参数\n",
    "strSetup = 'from __main__ import calSquareRootAndSquare' # data,winsize是传入的参数\n",
    "\n",
    "tt = timeit(strCmd, setup=strSetup,number = subloop)/subloop\n",
    "print(tt)"
   ]
  },
  {
   "cell_type": "code",
   "execution_count": 26,
   "metadata": {},
   "outputs": [
    {
     "name": "stdout",
     "output_type": "stream",
     "text": [
      "0:00:00.328680\n"
     ]
    }
   ],
   "source": [
    "import datetime\n",
    "beforeCal=datetime.datetime.now()\n",
    "\n",
    "for i in range(1):\n",
    "    calSquareRootAndSquare()\n",
    "afterCal=datetime.datetime .now()\n",
    "print(afterCal-beforeCal)\n",
    "# timeit 与正常使用一样，时间不损失"
   ]
  },
  {
   "cell_type": "markdown",
   "metadata": {},
   "source": [
    "#### numba -> jit "
   ]
  },
  {
   "cell_type": "code",
   "execution_count": 62,
   "metadata": {},
   "outputs": [
    {
     "name": "stdout",
     "output_type": "stream",
     "text": [
      "0.057924499999899126\n"
     ]
    }
   ],
   "source": [
    "from numba import jit, njit\n",
    "@njit\n",
    "def calSquareRootAndSquare():\n",
    "    for i in range(1000000):\n",
    "        result = math.sqrt(i)+ math.pow(i,2)\n",
    "    return result\n",
    "subloop = 20\n",
    "strCmd = \"calSquareRootAndSquare()\"\n",
    "# strSetup = 'from __main__ import {},data,winsize'.format(key) # data,winsize是传入的参数\n",
    "strSetup = 'from __main__ import calSquareRootAndSquare' # data,winsize是传入的参数\n",
    "\n",
    "tt = timeit(strCmd, setup=strSetup,number = subloop)\n",
    "print(tt)"
   ]
  },
  {
   "cell_type": "markdown",
   "metadata": {},
   "source": [
    "#### numba aot "
   ]
  },
  {
   "cell_type": "code",
   "execution_count": 2,
   "metadata": {},
   "outputs": [],
   "source": [
    "from numba.pycc import CC\n",
    "from numba import jit, njit\n",
    "import numpy as np\n",
    "import math \n",
    "cc = CC('calSquareRootAndSquare_AOT')\n",
    "cc.verbose = True\n",
    "\n",
    "@cc.export('calSquareRootAndSquare_AOT','f8()')\n",
    "def calSquareRootAndSquare_AOT():\n",
    "    for i in range(1000000):\n",
    "        result = math.sqrt(i)+ math.pow(i,2)\n",
    "    return result\n",
    "\n",
    "if __name__ == \"__main__\":\n",
    "    cc.compile()\n"
   ]
  },
  {
   "cell_type": "markdown",
   "metadata": {},
   "source": [
    "### cython module"
   ]
  },
  {
   "cell_type": "markdown",
   "metadata": {},
   "source": [
    "具体查看 ##_CY/*"
   ]
  },
  {
   "cell_type": "code",
   "execution_count": 5,
   "metadata": {},
   "outputs": [
    {
     "ename": "ImportError",
     "evalue": "cannot import name 'calSquareRootAndSquare_CY' from 'calSquareRootAndSquare_CY' (d:\\Desktop\\doitself\\calSquareRootAndSquare_CY.cp38-win_amd64.pyd)",
     "output_type": "error",
     "traceback": [
      "\u001b[1;31m---------------------------------------------------------------------------\u001b[0m",
      "\u001b[1;31mImportError\u001b[0m                               Traceback (most recent call last)",
      "\u001b[1;32md:\\Desktop\\doitself\\t.ipynb Cell 11\u001b[0m line \u001b[0;36m1\n\u001b[1;32m----> <a href='vscode-notebook-cell:/d%3A/Desktop/doitself/t.ipynb#X20sZmlsZQ%3D%3D?line=0'>1</a>\u001b[0m \u001b[39mfrom\u001b[39;00m \u001b[39mcalSquareRootAndSquare_CY\u001b[39;00m \u001b[39mimport\u001b[39;00m calSquareRootAndSquare_CY\n\u001b[0;32m      <a href='vscode-notebook-cell:/d%3A/Desktop/doitself/t.ipynb#X20sZmlsZQ%3D%3D?line=1'>2</a>\u001b[0m subloop \u001b[39m=\u001b[39m \u001b[39m20\u001b[39m\n\u001b[0;32m      <a href='vscode-notebook-cell:/d%3A/Desktop/doitself/t.ipynb#X20sZmlsZQ%3D%3D?line=2'>3</a>\u001b[0m strCmd \u001b[39m=\u001b[39m \u001b[39m\"\u001b[39m\u001b[39mcalSquareRootAndSquare_CY()\u001b[39m\u001b[39m\"\u001b[39m\n",
      "\u001b[1;31mImportError\u001b[0m: cannot import name 'calSquareRootAndSquare_CY' from 'calSquareRootAndSquare_CY' (d:\\Desktop\\doitself\\calSquareRootAndSquare_CY.cp38-win_amd64.pyd)"
     ]
    }
   ],
   "source": [
    "from calSquareRootAndSquare_CY import calSquareRootAndSquare_CY\n",
    "subloop = 20\n",
    "strCmd = \"calSquareRootAndSquare_CY()\"\n",
    "# strSetup = 'from __main__ import {},data,winsize'.format(key) # data,winsize是传入的参数\n",
    "strSetup = 'from __main__ import calSquareRootAndSquare_CY' # data,winsize是传入的参数\n",
    "\n",
    "tt = timeit(strCmd, setup=strSetup,number = subloop)\n",
    "print(tt)"
   ]
  },
  {
   "cell_type": "markdown",
   "metadata": {},
   "source": [
    "#### c module vc"
   ]
  },
  {
   "cell_type": "markdown",
   "metadata": {},
   "source": []
  },
  {
   "cell_type": "code",
   "execution_count": 15,
   "metadata": {},
   "outputs": [
    {
     "name": "stdout",
     "output_type": "stream",
     "text": [
      "[544121 177344 948544 ... 165285 976739 583190]\n",
      "[556669.66666667 504368.         706538.66666667 ... 293503.\n",
      " 470189.66666667 575071.33333333]\n"
     ]
    }
   ],
   "source": [
    "import numpy as np\n",
    "\n",
    "# 输入数组\n",
    "# a = np.array([1, 2, 3, 4, 5])\n",
    "a = np.random.randint(1,1000000,size=100000000,dtype=np.int32)\n",
    "print(a)\n",
    "# 滤波器（移动平均窗口）\n",
    "window = 3 \n",
    "v = np.ones(window) / window   # 窗口大小为3的均值滤波器\n",
    "\n",
    "# 进行卷积操作\n",
    "result = np.convolve(a, np.ones(window)/window, mode='valid')\n",
    "\n",
    "print(result)\n"
   ]
  }
 ],
 "metadata": {
  "kernelspec": {
   "display_name": "Python 3",
   "language": "python",
   "name": "python3"
  },
  "language_info": {
   "codemirror_mode": {
    "name": "ipython",
    "version": 3
   },
   "file_extension": ".py",
   "mimetype": "text/x-python",
   "name": "python",
   "nbconvert_exporter": "python",
   "pygments_lexer": "ipython3",
   "version": "3.8.18"
  }
 },
 "nbformat": 4,
 "nbformat_minor": 2
}
