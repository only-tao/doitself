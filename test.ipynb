{
 "cells": [
  {
   "cell_type": "markdown",
   "metadata": {},
   "source": [
    "test timeit "
   ]
  },
  {
   "cell_type": "code",
   "execution_count": null,
   "metadata": {},
   "outputs": [],
   "source": [
    "from timeit import timeit\n",
    "def perf_test(method):\n",
    "    years = range(1900, 2900)\n",
    "    if method == 0:\n",
    "        for y in years:\n",
    "            is_leap_year_0(y)\n",
    "\n",
    "    if method == 1:\n",
    "        for y in years:\n",
    "            is_leap_year_1(y)\n",
    "\n",
    "    if method == 2:\n",
    "        for y in years:\n",
    "            is_leap_year_2(y)\n",
    "\n",
    "print(timeit('perf_test(0)', setup='from __main__ import perf_test', number=100000))\n",
    "print(timeit('perf_test(1)', setup='from __main__ import perf_test', number=100000))\n",
    "print(timeit('perf_test(2)', setup='from __main__ import perf_test', number=100000))"
   ]
  },
  {
   "cell_type": "code",
   "execution_count": null,
   "metadata": {},
   "outputs": [],
   "source": [
    "def is_leap_year_0(year):\n",
    "    if year % 4 == 0:\n",
    "        if year % 100 == 0:\n",
    "            if year % 400 == 0:\n",
    "                return True\n",
    "            else:\n",
    "                return False\n",
    "        else:\n",
    "            return True\n",
    "    else:\n",
    "        return False\n",
    "\n",
    "\n",
    "def is_leap_year_1(year):\n",
    "    return year % 4 == 0 and (year % 100 != 0 or year % 400 == 0)\n",
    "\n",
    "\n",
    "def is_leap_year_2(year):\n",
    "    if year % 400 == 0:\n",
    "        return True\n",
    "    if year % 100 == 0:\n",
    "        return False\n",
    "    if year % 4 == 0:\n",
    "        return True\n",
    "\n",
    "    return False"
   ]
  },
  {
   "cell_type": "code",
   "execution_count": null,
   "metadata": {},
   "outputs": [
    {
     "name": "stdout",
     "output_type": "stream",
     "text": [
      "0.3207981150000023\n"
     ]
    }
   ],
   "source": [
    "import math\n",
    "from timeit import timeit \n",
    "def calSquareRootAndSquare():\n",
    "    for i in range(1000000):\n",
    "        result = math.sqrt(i)+ math.pow(i,2)\n",
    "    return result\n",
    "subloop = 20\n",
    "strCmd = \"calSquareRootAndSquare()\"\n",
    "# strSetup = 'from __main__ import {},data,winsize'.format(key) # data,winsize是传入的参数\n",
    "strSetup = 'from __main__ import calSquareRootAndSquare' # data,winsize是传入的参数\n",
    "\n",
    "tt = timeit(strCmd, setup=strSetup,number = subloop)/subloop\n",
    "print(tt)"
   ]
  },
  {
   "cell_type": "code",
   "execution_count": 26,
   "metadata": {},
   "outputs": [
    {
     "name": "stdout",
     "output_type": "stream",
     "text": [
      "0:00:00.328680\n"
     ]
    }
   ],
   "source": [
    "import datetime\n",
    "beforeCal=datetime.datetime.now()\n",
    "\n",
    "for i in range(1):\n",
    "    calSquareRootAndSquare()\n",
    "afterCal=datetime.datetime .now()\n",
    "print(afterCal-beforeCal)\n",
    "# timeit 与正常使用一样，时间不损失"
   ]
  },
  {
   "cell_type": "markdown",
   "metadata": {},
   "source": [
    "#### python optimization "
   ]
  },
  {
   "cell_type": "markdown",
   "metadata": {},
   "source": [
    "#### use Matrix (numpy)"
   ]
  },
  {
   "cell_type": "code",
   "execution_count": 13,
   "metadata": {},
   "outputs": [
    {
     "name": "stdout",
     "output_type": "stream",
     "text": [
      "0.3374964099999943\n"
     ]
    }
   ],
   "source": [
    "import math\n",
    "import numpy as np\n",
    "from timeit import timeit \n",
    "\n",
    "def calSquareRootAndSquare_OP(N):\n",
    "    x1 = np.array(range(N))\n",
    "    x2 = np.array(range(N))\n",
    "    x1 = np.sqrt(x1) \n",
    "    x2 = np.power(x2,2)\n",
    "    result = x1 + x2\n",
    "    return result\n",
    "subloop = 20 \n",
    "N = 1000000\n",
    "strCmd = \"calSquareRootAndSquare_OP(N)\"\n",
    "# strSetup = 'from __main__ import {},data,winsize'.format(key) # data,winsize是传入的参数\n",
    "strSetup = 'from __main__ import calSquareRootAndSquare_OP,N' # data,winsize是传入的参数\n",
    "\n",
    "tt = timeit(strCmd, setup=strSetup,number = subloop)/subloop\n",
    "print(tt)\n",
    "# x1 = np.sqrt(x1) \n",
    "# x2 = np.power(x2,2)\n",
    "# print(x1)\n",
    "# print(x2)\n",
    "\n"
   ]
  },
  {
   "cell_type": "markdown",
   "metadata": {},
   "source": [
    "#### numba jit "
   ]
  },
  {
   "cell_type": "code",
   "execution_count": 62,
   "metadata": {},
   "outputs": [
    {
     "name": "stdout",
     "output_type": "stream",
     "text": [
      "0.057924499999899126\n"
     ]
    }
   ],
   "source": [
    "from numba import jit, njit\n",
    "@njit\n",
    "def calSquareRootAndSquare():\n",
    "    for i in range(1000000):\n",
    "        result = math.sqrt(i)+ math.pow(i,2)\n",
    "    return result\n",
    "subloop = 20\n",
    "strCmd = \"calSquareRootAndSquare()\"\n",
    "# strSetup = 'from __main__ import {},data,winsize'.format(key) # data,winsize是传入的参数\n",
    "strSetup = 'from __main__ import calSquareRootAndSquare' # data,winsize是传入的参数\n",
    "\n",
    "tt = timeit(strCmd, setup=strSetup,number = subloop)\n",
    "print(tt)"
   ]
  },
  {
   "cell_type": "markdown",
   "metadata": {},
   "source": [
    "#### numba aot \n",
    "This is the build code"
   ]
  },
  {
   "cell_type": "code",
   "execution_count": 1,
   "metadata": {},
   "outputs": [
    {
     "name": "stderr",
     "output_type": "stream",
     "text": [
      "C:\\Users\\sysdt\\AppData\\Local\\Temp\\ipykernel_7936\\343852134.py:1: NumbaPendingDeprecationWarning: \u001b[1mThe 'pycc' module is pending deprecation. Replacement technology is being developed.\n",
      "\n",
      "Pending Deprecation in Numba 0.57.0. For more information please see: https://numba.readthedocs.io/en/stable/reference/deprecation.html#deprecation-of-the-numba-pycc-module\u001b[0m\n",
      "  from numba.pycc import CC\n",
      "c:\\Users\\sysdt\\anaconda3\\envs\\pointcloud_conda\\lib\\site-packages\\numba\\core\\utils.py:213: NumbaPendingDeprecationWarning: \u001b[1mCode using Numba extension API maybe depending on 'old_style' error-capturing, which is deprecated and will be replaced by 'new_style' in a future release. See details at https://numba.readthedocs.io/en/latest/reference/deprecation.html#deprecation-of-old-style-numba-captured-errors\n",
      "Exception origin:\n",
      "  File \"c:\\Users\\sysdt\\anaconda3\\envs\\pointcloud_conda\\lib\\site-packages\\numba\\core\\untyped_passes.py\", line 125, in run_pass\n",
      "    raise TypeError(\"Signature mismatch: %d argument types given, \"\n",
      "\u001b[0m\n",
      "  warnings.warn(msg,\n"
     ]
    },
    {
     "ename": "TypeError",
     "evalue": "Failed in nopython mode pipeline (step: fix up args)\nSignature mismatch: 0 argument types given, but function takes 1 arguments",
     "output_type": "error",
     "traceback": [
      "\u001b[1;31m---------------------------------------------------------------------------\u001b[0m",
      "\u001b[1;31mTypeError\u001b[0m                                 Traceback (most recent call last)",
      "\u001b[1;32md:\\Desktop\\doitself\\t.ipynb Cell 12\u001b[0m line \u001b[0;36m1\n\u001b[0;32m     <a href='vscode-notebook-cell:/d%3A/Desktop/doitself/t.ipynb#X14sZmlsZQ%3D%3D?line=11'>12</a>\u001b[0m     \u001b[39mreturn\u001b[39;00m result\n\u001b[0;32m     <a href='vscode-notebook-cell:/d%3A/Desktop/doitself/t.ipynb#X14sZmlsZQ%3D%3D?line=13'>14</a>\u001b[0m \u001b[39mif\u001b[39;00m \u001b[39m__name__\u001b[39m \u001b[39m==\u001b[39m \u001b[39m\"\u001b[39m\u001b[39m__main__\u001b[39m\u001b[39m\"\u001b[39m:\n\u001b[1;32m---> <a href='vscode-notebook-cell:/d%3A/Desktop/doitself/t.ipynb#X14sZmlsZQ%3D%3D?line=14'>15</a>\u001b[0m     cc\u001b[39m.\u001b[39;49mcompile()\n",
      "File \u001b[1;32mc:\\Users\\sysdt\\anaconda3\\envs\\pointcloud_conda\\lib\\site-packages\\numba\\core\\compiler_lock.py:35\u001b[0m, in \u001b[0;36m_CompilerLock.__call__.<locals>._acquire_compile_lock\u001b[1;34m(*args, **kwargs)\u001b[0m\n\u001b[0;32m     32\u001b[0m \u001b[39m@functools\u001b[39m\u001b[39m.\u001b[39mwraps(func)\n\u001b[0;32m     33\u001b[0m \u001b[39mdef\u001b[39;00m \u001b[39m_acquire_compile_lock\u001b[39m(\u001b[39m*\u001b[39margs, \u001b[39m*\u001b[39m\u001b[39m*\u001b[39mkwargs):\n\u001b[0;32m     34\u001b[0m     \u001b[39mwith\u001b[39;00m \u001b[39mself\u001b[39m:\n\u001b[1;32m---> 35\u001b[0m         \u001b[39mreturn\u001b[39;00m func(\u001b[39m*\u001b[39;49margs, \u001b[39m*\u001b[39;49m\u001b[39m*\u001b[39;49mkwargs)\n",
      "File \u001b[1;32mc:\\Users\\sysdt\\anaconda3\\envs\\pointcloud_conda\\lib\\site-packages\\numba\\pycc\\cc.py:221\u001b[0m, in \u001b[0;36mCC.compile\u001b[1;34m(self)\u001b[0m\n\u001b[0;32m    218\u001b[0m build_dir \u001b[39m=\u001b[39m tempfile\u001b[39m.\u001b[39mmkdtemp(prefix\u001b[39m=\u001b[39m\u001b[39m'\u001b[39m\u001b[39mpycc-build-\u001b[39m\u001b[39m%s\u001b[39;00m\u001b[39m-\u001b[39m\u001b[39m'\u001b[39m \u001b[39m%\u001b[39m \u001b[39mself\u001b[39m\u001b[39m.\u001b[39m_basename)\n\u001b[0;32m    220\u001b[0m \u001b[39m# Compile object file\u001b[39;00m\n\u001b[1;32m--> 221\u001b[0m objects, dll_exports \u001b[39m=\u001b[39m \u001b[39mself\u001b[39;49m\u001b[39m.\u001b[39;49m_compile_object_files(build_dir)\n\u001b[0;32m    223\u001b[0m \u001b[39m# Compile mixins\u001b[39;00m\n\u001b[0;32m    224\u001b[0m objects \u001b[39m+\u001b[39m\u001b[39m=\u001b[39m \u001b[39mself\u001b[39m\u001b[39m.\u001b[39m_compile_mixins(build_dir)\n",
      "File \u001b[1;32mc:\\Users\\sysdt\\anaconda3\\envs\\pointcloud_conda\\lib\\site-packages\\numba\\core\\compiler_lock.py:35\u001b[0m, in \u001b[0;36m_CompilerLock.__call__.<locals>._acquire_compile_lock\u001b[1;34m(*args, **kwargs)\u001b[0m\n\u001b[0;32m     32\u001b[0m \u001b[39m@functools\u001b[39m\u001b[39m.\u001b[39mwraps(func)\n\u001b[0;32m     33\u001b[0m \u001b[39mdef\u001b[39;00m \u001b[39m_acquire_compile_lock\u001b[39m(\u001b[39m*\u001b[39margs, \u001b[39m*\u001b[39m\u001b[39m*\u001b[39mkwargs):\n\u001b[0;32m     34\u001b[0m     \u001b[39mwith\u001b[39;00m \u001b[39mself\u001b[39m:\n\u001b[1;32m---> 35\u001b[0m         \u001b[39mreturn\u001b[39;00m func(\u001b[39m*\u001b[39;49margs, \u001b[39m*\u001b[39;49m\u001b[39m*\u001b[39;49mkwargs)\n",
      "File \u001b[1;32mc:\\Users\\sysdt\\anaconda3\\envs\\pointcloud_conda\\lib\\site-packages\\numba\\pycc\\cc.py:209\u001b[0m, in \u001b[0;36mCC._compile_object_files\u001b[1;34m(self, build_dir)\u001b[0m\n\u001b[0;32m    205\u001b[0m temp_obj \u001b[39m=\u001b[39m os\u001b[39m.\u001b[39mpath\u001b[39m.\u001b[39mjoin(build_dir,\n\u001b[0;32m    206\u001b[0m                         os\u001b[39m.\u001b[39mpath\u001b[39m.\u001b[39msplitext(\u001b[39mself\u001b[39m\u001b[39m.\u001b[39m_output_file)[\u001b[39m0\u001b[39m] \u001b[39m+\u001b[39m \u001b[39m'\u001b[39m\u001b[39m.o\u001b[39m\u001b[39m'\u001b[39m)\n\u001b[0;32m    207\u001b[0m log\u001b[39m.\u001b[39minfo(\u001b[39m\"\u001b[39m\u001b[39mgenerating LLVM code for \u001b[39m\u001b[39m'\u001b[39m\u001b[39m%s\u001b[39;00m\u001b[39m'\u001b[39m\u001b[39m into \u001b[39m\u001b[39m%s\u001b[39;00m\u001b[39m\"\u001b[39m,\n\u001b[0;32m    208\u001b[0m         \u001b[39mself\u001b[39m\u001b[39m.\u001b[39m_basename, temp_obj)\n\u001b[1;32m--> 209\u001b[0m compiler\u001b[39m.\u001b[39;49mwrite_native_object(temp_obj, wrap\u001b[39m=\u001b[39;49m\u001b[39mTrue\u001b[39;49;00m)\n\u001b[0;32m    210\u001b[0m \u001b[39mreturn\u001b[39;00m [temp_obj], compiler\u001b[39m.\u001b[39mdll_exports\n",
      "File \u001b[1;32mc:\\Users\\sysdt\\anaconda3\\envs\\pointcloud_conda\\lib\\site-packages\\numba\\pycc\\compiler.py:207\u001b[0m, in \u001b[0;36m_ModuleCompiler.write_native_object\u001b[1;34m(self, output, wrap, **kws)\u001b[0m\n\u001b[0;32m    205\u001b[0m \u001b[39mdef\u001b[39;00m \u001b[39mwrite_native_object\u001b[39m(\u001b[39mself\u001b[39m, output, wrap\u001b[39m=\u001b[39m\u001b[39mFalse\u001b[39;00m, \u001b[39m*\u001b[39m\u001b[39m*\u001b[39mkws):\n\u001b[0;32m    206\u001b[0m     \u001b[39mself\u001b[39m\u001b[39m.\u001b[39mexport_python_wrap \u001b[39m=\u001b[39m wrap\n\u001b[1;32m--> 207\u001b[0m     library \u001b[39m=\u001b[39m \u001b[39mself\u001b[39;49m\u001b[39m.\u001b[39;49m_cull_exports()\n\u001b[0;32m    208\u001b[0m     \u001b[39mwith\u001b[39;00m \u001b[39mopen\u001b[39m(output, \u001b[39m'\u001b[39m\u001b[39mwb\u001b[39m\u001b[39m'\u001b[39m) \u001b[39mas\u001b[39;00m fout:\n\u001b[0;32m    209\u001b[0m         fout\u001b[39m.\u001b[39mwrite(library\u001b[39m.\u001b[39memit_native_object())\n",
      "File \u001b[1;32mc:\\Users\\sysdt\\anaconda3\\envs\\pointcloud_conda\\lib\\site-packages\\numba\\core\\compiler_lock.py:35\u001b[0m, in \u001b[0;36m_CompilerLock.__call__.<locals>._acquire_compile_lock\u001b[1;34m(*args, **kwargs)\u001b[0m\n\u001b[0;32m     32\u001b[0m \u001b[39m@functools\u001b[39m\u001b[39m.\u001b[39mwraps(func)\n\u001b[0;32m     33\u001b[0m \u001b[39mdef\u001b[39;00m \u001b[39m_acquire_compile_lock\u001b[39m(\u001b[39m*\u001b[39margs, \u001b[39m*\u001b[39m\u001b[39m*\u001b[39mkwargs):\n\u001b[0;32m     34\u001b[0m     \u001b[39mwith\u001b[39;00m \u001b[39mself\u001b[39m:\n\u001b[1;32m---> 35\u001b[0m         \u001b[39mreturn\u001b[39;00m func(\u001b[39m*\u001b[39;49margs, \u001b[39m*\u001b[39;49m\u001b[39m*\u001b[39;49mkwargs)\n",
      "File \u001b[1;32mc:\\Users\\sysdt\\anaconda3\\envs\\pointcloud_conda\\lib\\site-packages\\numba\\pycc\\compiler.py:159\u001b[0m, in \u001b[0;36m_ModuleCompiler._cull_exports\u001b[1;34m(self)\u001b[0m\n\u001b[0;32m    156\u001b[0m     library\u001b[39m.\u001b[39madd_ir_module(nrt_module)\n\u001b[0;32m    158\u001b[0m \u001b[39mfor\u001b[39;00m entry \u001b[39min\u001b[39;00m \u001b[39mself\u001b[39m\u001b[39m.\u001b[39mexport_entries:\n\u001b[1;32m--> 159\u001b[0m     cres \u001b[39m=\u001b[39m compile_extra(\u001b[39mself\u001b[39;49m\u001b[39m.\u001b[39;49mtyping_context, \u001b[39mself\u001b[39;49m\u001b[39m.\u001b[39;49mcontext,\n\u001b[0;32m    160\u001b[0m                         entry\u001b[39m.\u001b[39;49mfunction,\n\u001b[0;32m    161\u001b[0m                         entry\u001b[39m.\u001b[39;49msignature\u001b[39m.\u001b[39;49margs,\n\u001b[0;32m    162\u001b[0m                         entry\u001b[39m.\u001b[39;49msignature\u001b[39m.\u001b[39;49mreturn_type, flags,\n\u001b[0;32m    163\u001b[0m                         \u001b[39mlocals\u001b[39;49m\u001b[39m=\u001b[39;49m{}, library\u001b[39m=\u001b[39;49mlibrary)\n\u001b[0;32m    165\u001b[0m     func_name \u001b[39m=\u001b[39m cres\u001b[39m.\u001b[39mfndesc\u001b[39m.\u001b[39mllvm_func_name\n\u001b[0;32m    166\u001b[0m     llvm_func \u001b[39m=\u001b[39m cres\u001b[39m.\u001b[39mlibrary\u001b[39m.\u001b[39mget_function(func_name)\n",
      "File \u001b[1;32mc:\\Users\\sysdt\\anaconda3\\envs\\pointcloud_conda\\lib\\site-packages\\numba\\core\\compiler.py:770\u001b[0m, in \u001b[0;36mcompile_extra\u001b[1;34m(typingctx, targetctx, func, args, return_type, flags, locals, library, pipeline_class)\u001b[0m\n\u001b[0;32m    746\u001b[0m \u001b[39m\u001b[39m\u001b[39m\"\"\"Compiler entry point\u001b[39;00m\n\u001b[0;32m    747\u001b[0m \n\u001b[0;32m    748\u001b[0m \u001b[39mParameter\u001b[39;00m\n\u001b[1;32m   (...)\u001b[0m\n\u001b[0;32m    766\u001b[0m \u001b[39m    compiler pipeline\u001b[39;00m\n\u001b[0;32m    767\u001b[0m \u001b[39m\"\"\"\u001b[39;00m\n\u001b[0;32m    768\u001b[0m pipeline \u001b[39m=\u001b[39m pipeline_class(typingctx, targetctx, library,\n\u001b[0;32m    769\u001b[0m                           args, return_type, flags, \u001b[39mlocals\u001b[39m)\n\u001b[1;32m--> 770\u001b[0m \u001b[39mreturn\u001b[39;00m pipeline\u001b[39m.\u001b[39;49mcompile_extra(func)\n",
      "File \u001b[1;32mc:\\Users\\sysdt\\anaconda3\\envs\\pointcloud_conda\\lib\\site-packages\\numba\\core\\compiler.py:461\u001b[0m, in \u001b[0;36mCompilerBase.compile_extra\u001b[1;34m(self, func)\u001b[0m\n\u001b[0;32m    459\u001b[0m \u001b[39mself\u001b[39m\u001b[39m.\u001b[39mstate\u001b[39m.\u001b[39mlifted \u001b[39m=\u001b[39m ()\n\u001b[0;32m    460\u001b[0m \u001b[39mself\u001b[39m\u001b[39m.\u001b[39mstate\u001b[39m.\u001b[39mlifted_from \u001b[39m=\u001b[39m \u001b[39mNone\u001b[39;00m\n\u001b[1;32m--> 461\u001b[0m \u001b[39mreturn\u001b[39;00m \u001b[39mself\u001b[39;49m\u001b[39m.\u001b[39;49m_compile_bytecode()\n",
      "File \u001b[1;32mc:\\Users\\sysdt\\anaconda3\\envs\\pointcloud_conda\\lib\\site-packages\\numba\\core\\compiler.py:529\u001b[0m, in \u001b[0;36mCompilerBase._compile_bytecode\u001b[1;34m(self)\u001b[0m\n\u001b[0;32m    525\u001b[0m \u001b[39m\u001b[39m\u001b[39m\"\"\"\u001b[39;00m\n\u001b[0;32m    526\u001b[0m \u001b[39mPopulate and run pipeline for bytecode input\u001b[39;00m\n\u001b[0;32m    527\u001b[0m \u001b[39m\"\"\"\u001b[39;00m\n\u001b[0;32m    528\u001b[0m \u001b[39massert\u001b[39;00m \u001b[39mself\u001b[39m\u001b[39m.\u001b[39mstate\u001b[39m.\u001b[39mfunc_ir \u001b[39mis\u001b[39;00m \u001b[39mNone\u001b[39;00m\n\u001b[1;32m--> 529\u001b[0m \u001b[39mreturn\u001b[39;00m \u001b[39mself\u001b[39;49m\u001b[39m.\u001b[39;49m_compile_core()\n",
      "File \u001b[1;32mc:\\Users\\sysdt\\anaconda3\\envs\\pointcloud_conda\\lib\\site-packages\\numba\\core\\compiler.py:508\u001b[0m, in \u001b[0;36mCompilerBase._compile_core\u001b[1;34m(self)\u001b[0m\n\u001b[0;32m    506\u001b[0m         \u001b[39mself\u001b[39m\u001b[39m.\u001b[39mstate\u001b[39m.\u001b[39mstatus\u001b[39m.\u001b[39mfail_reason \u001b[39m=\u001b[39m e\n\u001b[0;32m    507\u001b[0m         \u001b[39mif\u001b[39;00m is_final_pipeline:\n\u001b[1;32m--> 508\u001b[0m             \u001b[39mraise\u001b[39;00m e\n\u001b[0;32m    509\u001b[0m \u001b[39melse\u001b[39;00m:\n\u001b[0;32m    510\u001b[0m     \u001b[39mraise\u001b[39;00m CompilerError(\u001b[39m\"\u001b[39m\u001b[39mAll available pipelines exhausted\u001b[39m\u001b[39m\"\u001b[39m)\n",
      "File \u001b[1;32mc:\\Users\\sysdt\\anaconda3\\envs\\pointcloud_conda\\lib\\site-packages\\numba\\core\\compiler.py:495\u001b[0m, in \u001b[0;36mCompilerBase._compile_core\u001b[1;34m(self)\u001b[0m\n\u001b[0;32m    493\u001b[0m res \u001b[39m=\u001b[39m \u001b[39mNone\u001b[39;00m\n\u001b[0;32m    494\u001b[0m \u001b[39mtry\u001b[39;00m:\n\u001b[1;32m--> 495\u001b[0m     pm\u001b[39m.\u001b[39;49mrun(\u001b[39mself\u001b[39;49m\u001b[39m.\u001b[39;49mstate)\n\u001b[0;32m    496\u001b[0m     \u001b[39mif\u001b[39;00m \u001b[39mself\u001b[39m\u001b[39m.\u001b[39mstate\u001b[39m.\u001b[39mcr \u001b[39mis\u001b[39;00m \u001b[39mnot\u001b[39;00m \u001b[39mNone\u001b[39;00m:\n\u001b[0;32m    497\u001b[0m         \u001b[39mbreak\u001b[39;00m\n",
      "File \u001b[1;32mc:\\Users\\sysdt\\anaconda3\\envs\\pointcloud_conda\\lib\\site-packages\\numba\\core\\compiler_machinery.py:368\u001b[0m, in \u001b[0;36mPassManager.run\u001b[1;34m(self, state)\u001b[0m\n\u001b[0;32m    365\u001b[0m msg \u001b[39m=\u001b[39m \u001b[39m\"\u001b[39m\u001b[39mFailed in \u001b[39m\u001b[39m%s\u001b[39;00m\u001b[39m mode pipeline (step: \u001b[39m\u001b[39m%s\u001b[39;00m\u001b[39m)\u001b[39m\u001b[39m\"\u001b[39m \u001b[39m%\u001b[39m \\\n\u001b[0;32m    366\u001b[0m     (\u001b[39mself\u001b[39m\u001b[39m.\u001b[39mpipeline_name, pass_desc)\n\u001b[0;32m    367\u001b[0m patched_exception \u001b[39m=\u001b[39m \u001b[39mself\u001b[39m\u001b[39m.\u001b[39m_patch_error(msg, e)\n\u001b[1;32m--> 368\u001b[0m \u001b[39mraise\u001b[39;00m patched_exception\n",
      "File \u001b[1;32mc:\\Users\\sysdt\\anaconda3\\envs\\pointcloud_conda\\lib\\site-packages\\numba\\core\\compiler_machinery.py:356\u001b[0m, in \u001b[0;36mPassManager.run\u001b[1;34m(self, state)\u001b[0m\n\u001b[0;32m    354\u001b[0m pass_inst \u001b[39m=\u001b[39m _pass_registry\u001b[39m.\u001b[39mget(pss)\u001b[39m.\u001b[39mpass_inst\n\u001b[0;32m    355\u001b[0m \u001b[39mif\u001b[39;00m \u001b[39misinstance\u001b[39m(pass_inst, CompilerPass):\n\u001b[1;32m--> 356\u001b[0m     \u001b[39mself\u001b[39;49m\u001b[39m.\u001b[39;49m_runPass(idx, pass_inst, state)\n\u001b[0;32m    357\u001b[0m \u001b[39melse\u001b[39;00m:\n\u001b[0;32m    358\u001b[0m     \u001b[39mraise\u001b[39;00m \u001b[39mBaseException\u001b[39;00m(\u001b[39m\"\u001b[39m\u001b[39mLegacy pass in use\u001b[39m\u001b[39m\"\u001b[39m)\n",
      "File \u001b[1;32mc:\\Users\\sysdt\\anaconda3\\envs\\pointcloud_conda\\lib\\site-packages\\numba\\core\\compiler_lock.py:35\u001b[0m, in \u001b[0;36m_CompilerLock.__call__.<locals>._acquire_compile_lock\u001b[1;34m(*args, **kwargs)\u001b[0m\n\u001b[0;32m     32\u001b[0m \u001b[39m@functools\u001b[39m\u001b[39m.\u001b[39mwraps(func)\n\u001b[0;32m     33\u001b[0m \u001b[39mdef\u001b[39;00m \u001b[39m_acquire_compile_lock\u001b[39m(\u001b[39m*\u001b[39margs, \u001b[39m*\u001b[39m\u001b[39m*\u001b[39mkwargs):\n\u001b[0;32m     34\u001b[0m     \u001b[39mwith\u001b[39;00m \u001b[39mself\u001b[39m:\n\u001b[1;32m---> 35\u001b[0m         \u001b[39mreturn\u001b[39;00m func(\u001b[39m*\u001b[39;49margs, \u001b[39m*\u001b[39;49m\u001b[39m*\u001b[39;49mkwargs)\n",
      "File \u001b[1;32mc:\\Users\\sysdt\\anaconda3\\envs\\pointcloud_conda\\lib\\site-packages\\numba\\core\\compiler_machinery.py:311\u001b[0m, in \u001b[0;36mPassManager._runPass\u001b[1;34m(self, index, pss, internal_state)\u001b[0m\n\u001b[0;32m    309\u001b[0m     mutated \u001b[39m|\u001b[39m\u001b[39m=\u001b[39m check(pss\u001b[39m.\u001b[39mrun_initialization, internal_state)\n\u001b[0;32m    310\u001b[0m \u001b[39mwith\u001b[39;00m SimpleTimer() \u001b[39mas\u001b[39;00m pass_time:\n\u001b[1;32m--> 311\u001b[0m     mutated \u001b[39m|\u001b[39m\u001b[39m=\u001b[39m check(pss\u001b[39m.\u001b[39;49mrun_pass, internal_state)\n\u001b[0;32m    312\u001b[0m \u001b[39mwith\u001b[39;00m SimpleTimer() \u001b[39mas\u001b[39;00m finalize_time:\n\u001b[0;32m    313\u001b[0m     mutated \u001b[39m|\u001b[39m\u001b[39m=\u001b[39m check(pss\u001b[39m.\u001b[39mrun_finalizer, internal_state)\n",
      "File \u001b[1;32mc:\\Users\\sysdt\\anaconda3\\envs\\pointcloud_conda\\lib\\site-packages\\numba\\core\\compiler_machinery.py:273\u001b[0m, in \u001b[0;36mPassManager._runPass.<locals>.check\u001b[1;34m(func, compiler_state)\u001b[0m\n\u001b[0;32m    272\u001b[0m \u001b[39mdef\u001b[39;00m \u001b[39mcheck\u001b[39m(func, compiler_state):\n\u001b[1;32m--> 273\u001b[0m     mangled \u001b[39m=\u001b[39m func(compiler_state)\n\u001b[0;32m    274\u001b[0m     \u001b[39mif\u001b[39;00m mangled \u001b[39mnot\u001b[39;00m \u001b[39min\u001b[39;00m (\u001b[39mTrue\u001b[39;00m, \u001b[39mFalse\u001b[39;00m):\n\u001b[0;32m    275\u001b[0m         msg \u001b[39m=\u001b[39m (\u001b[39m\"\u001b[39m\u001b[39mCompilerPass implementations should return True/False. \u001b[39m\u001b[39m\"\u001b[39m\n\u001b[0;32m    276\u001b[0m                \u001b[39m\"\u001b[39m\u001b[39mCompilerPass with name \u001b[39m\u001b[39m'\u001b[39m\u001b[39m%s\u001b[39;00m\u001b[39m'\u001b[39m\u001b[39m did not.\u001b[39m\u001b[39m\"\u001b[39m)\n",
      "File \u001b[1;32mc:\\Users\\sysdt\\anaconda3\\envs\\pointcloud_conda\\lib\\site-packages\\numba\\core\\untyped_passes.py:125\u001b[0m, in \u001b[0;36mFixupArgs.run_pass\u001b[1;34m(self, state)\u001b[0m\n\u001b[0;32m    123\u001b[0m     state[\u001b[39m'\u001b[39m\u001b[39margs\u001b[39m\u001b[39m'\u001b[39m] \u001b[39m=\u001b[39m (types\u001b[39m.\u001b[39mpyobject,) \u001b[39m*\u001b[39m state[\u001b[39m'\u001b[39m\u001b[39mnargs\u001b[39m\u001b[39m'\u001b[39m]\n\u001b[0;32m    124\u001b[0m \u001b[39melif\u001b[39;00m \u001b[39mlen\u001b[39m(state[\u001b[39m'\u001b[39m\u001b[39margs\u001b[39m\u001b[39m'\u001b[39m]) \u001b[39m!=\u001b[39m state[\u001b[39m'\u001b[39m\u001b[39mnargs\u001b[39m\u001b[39m'\u001b[39m]:\n\u001b[1;32m--> 125\u001b[0m     \u001b[39mraise\u001b[39;00m \u001b[39mTypeError\u001b[39;00m(\u001b[39m\"\u001b[39m\u001b[39mSignature mismatch: \u001b[39m\u001b[39m%d\u001b[39;00m\u001b[39m argument types given, \u001b[39m\u001b[39m\"\u001b[39m\n\u001b[0;32m    126\u001b[0m                     \u001b[39m\"\u001b[39m\u001b[39mbut function takes \u001b[39m\u001b[39m%d\u001b[39;00m\u001b[39m arguments\u001b[39m\u001b[39m\"\u001b[39m\n\u001b[0;32m    127\u001b[0m                     \u001b[39m%\u001b[39m (\u001b[39mlen\u001b[39m(state[\u001b[39m'\u001b[39m\u001b[39margs\u001b[39m\u001b[39m'\u001b[39m]), state[\u001b[39m'\u001b[39m\u001b[39mnargs\u001b[39m\u001b[39m'\u001b[39m]))\n\u001b[0;32m    128\u001b[0m \u001b[39mreturn\u001b[39;00m \u001b[39mTrue\u001b[39;00m\n",
      "\u001b[1;31mTypeError\u001b[0m: Failed in nopython mode pipeline (step: fix up args)\nSignature mismatch: 0 argument types given, but function takes 1 arguments"
     ]
    }
   ],
   "source": [
    "from numba.pycc import CC\n",
    "from numba import jit, njit\n",
    "import numpy as np\n",
    "import math \n",
    "cc = CC('calSquareRootAndSquare_AOT')\n",
    "cc.verbose = True\n",
    "\n",
    "@cc.export('calSquareRootAndSquare_AOT','f8()') ## ('name','float[](int 4 bytes, int 4 bytes)') return float\n",
    "def calSquareRootAndSquare_AOT(N):\n",
    "    for i in range(N):\n",
    "        result = math.sqrt(i)+ math.pow(i,2)\n",
    "    return result\n",
    "\n",
    "if __name__ == \"__main__\":\n",
    "    cc.compile()\n"
   ]
  },
  {
   "cell_type": "markdown",
   "metadata": {},
   "source": [
    "### cython module"
   ]
  },
  {
   "cell_type": "markdown",
   "metadata": {},
   "source": [
    "具体查看 ##_CY/*"
   ]
  },
  {
   "cell_type": "code",
   "execution_count": 3,
   "metadata": {},
   "outputs": [
    {
     "name": "stdout",
     "output_type": "stream",
     "text": [
      "0.37560173499998656\n"
     ]
    }
   ],
   "source": [
    "import math\n",
    "import numpy as np\n",
    "from timeit import timeit \n",
    "from calSquareRootAndSquare_CY import calSquareRootAndSquare_CY\n",
    "N = 100*10000\n",
    "# x1 = np.array(range(N))\n",
    "\n",
    "subloop = 20\n",
    "strCmd = \"calSquareRootAndSquare_CY(N)\"\n",
    "# strSetup = 'from __main__ import {},data,winsize'.format(key) # data,winsize是传入的参数\n",
    "strSetup = 'from __main__ import calSquareRootAndSquare_CY,N' # data,winsize是传入的参数\n",
    "\n",
    "tt = timeit(strCmd, setup=strSetup,number = subloop)/subloop\n",
    "print(tt)"
   ]
  },
  {
   "cell_type": "markdown",
   "metadata": {},
   "source": [
    "#### c module vc\n",
    "look in folder .doitself/ \n",
    "get calSquareRootAndSquare_PyC.pyd file "
   ]
  },
  {
   "cell_type": "code",
   "execution_count": 5,
   "metadata": {},
   "outputs": [
    {
     "name": "stdout",
     "output_type": "stream",
     "text": [
      "0.02807072500000061\n"
     ]
    }
   ],
   "source": [
    "import math\n",
    "import numpy as np\n",
    "from timeit import timeit \n",
    "from calSquareRootAndSquare_PyC import calSquareRootAndSquare_PyC\n",
    "N = 1000000\n",
    "# x1 = np.array(range(N))\n",
    "\n",
    "subloop = 20\n",
    "strCmd = \"calSquareRootAndSquare_PyC(N)\"\n",
    "# strSetup = 'from __main__ import {},data,winsize'.format(key) # data,winsize是传入的参数\n",
    "strSetup = 'from __main__ import calSquareRootAndSquare_PyC,N' # data,winsize是传入的参数\n",
    "\n",
    "tt = timeit(strCmd, setup=strSetup,number = subloop)/subloop\n",
    "print(tt)"
   ]
  },
  {
   "cell_type": "markdown",
   "metadata": {},
   "source": [
    "#### c module gcc\n",
    "in folder SRaddS_PyC"
   ]
  },
  {
   "cell_type": "code",
   "execution_count": 6,
   "metadata": {},
   "outputs": [
    {
     "name": "stdout",
     "output_type": "stream",
     "text": [
      "0.028079415000001974\n"
     ]
    }
   ],
   "source": [
    "import math\n",
    "import numpy as np\n",
    "from timeit import timeit \n",
    "from calSquareRootAndSquare_PyCG import calSquareRootAndSquare_PyC as calSquareRootAndSquare_PyCG\n",
    "N = 1000000\n",
    "# x1 = np.array(range(N))\n",
    "\n",
    "subloop = 20\n",
    "strCmd = \"calSquareRootAndSquare_PyCG(N)\"\n",
    "# strSetup = 'from __main__ import {},data,winsize'.format(key) # data,winsize是传入的参数\n",
    "strSetup = 'from __main__ import calSquareRootAndSquare_PyCG,N' # data,winsize是传入的参数\n",
    "\n",
    "tt = timeit(strCmd, setup=strSetup,number = subloop)/subloop\n",
    "print(tt)"
   ]
  },
  {
   "cell_type": "markdown",
   "metadata": {},
   "source": [
    "#### ctypes dll vc\n",
    "build code see in folder/ "
   ]
  },
  {
   "cell_type": "code",
   "execution_count": 5,
   "metadata": {},
   "outputs": [
    {
     "name": "stdout",
     "output_type": "stream",
     "text": [
      "0.04603526000000002\n"
     ]
    }
   ],
   "source": [
    "from ctypes import *\n",
    "import numpy as np\n",
    "import numpy.ctypeslib as npct\n",
    "dlllib = npct.load_library(\"calSquareRootAndSquare_DLL\",\".\")\n",
    "dlllib.calSquareRootAndSquare_DLL.argtypes = [c_int]\n",
    "N = 1000000\n",
    "def calSquareRootAndSquare_DLL(N):\n",
    "    global dlllib\n",
    "    # n = d.size\n",
    "    #m = np.zeros(n, dtype=np.float64)\n",
    "    # m = np.empty((n,), dtype=np.float64)\n",
    "    result = dlllib.calSquareRootAndSquare_DLL(N)\n",
    "    # print(result)\n",
    "    return result\n",
    "subloop = 20\n",
    "strCmd = \"calSquareRootAndSquare_DLL(N)\"\n",
    "# strSetup = 'from __main__ import {},data,winsize'.format(key) # data,winsize是传入的参数\n",
    "strSetup = 'from __main__ import calSquareRootAndSquare_DLL,N' # data,winsize是传入的参数\n",
    "\n",
    "tt = timeit(strCmd, setup=strSetup,number = subloop)/subloop\n",
    "print(tt)"
   ]
  },
  {
   "cell_type": "markdown",
   "metadata": {},
   "source": [
    "#### ctypes dll gcc "
   ]
  },
  {
   "cell_type": "code",
   "execution_count": 4,
   "metadata": {},
   "outputs": [
    {
     "name": "stdout",
     "output_type": "stream",
     "text": [
      "0.0022840850000001465\n"
     ]
    }
   ],
   "source": [
    "from timeit import timeit \n",
    "from ctypes import *\n",
    "import numpy as np\n",
    "import numpy.ctypeslib as npct\n",
    "# dlllib = npct.load_library(\"calSquareRootAndSquare_DLL_gcc\",\".\")\n",
    "dlllib = CDLL(\"./calSquareRootAndSquare_DLL_gcc.dll\")\n",
    "dlllib.calSquareRootAndSquare_DLL.argtypes = [c_int]\n",
    "N = 1000000\n",
    "def calSquareRootAndSquare_DLL_gcc(N):\n",
    "    global dlllib\n",
    "    # n = d.size\n",
    "    #m = np.zeros(n, dtype=np.float64)\n",
    "    # m = np.empty((n,), dtype=np.float64)\n",
    "    result = dlllib.calSquareRootAndSquare_DLL(N)\n",
    "    # print(result)\n",
    "    return result\n",
    "subloop = 20\n",
    "strCmd = \"calSquareRootAndSquare_DLL_gcc(N)\"\n",
    "# strSetup = 'from __main__ import {},data,winsize'.format(key) # data,winsize是传入的参数\n",
    "strSetup = 'from __main__ import calSquareRootAndSquare_DLL_gcc,N' # data,winsize是传入的参数\n",
    "\n",
    "tt = timeit(strCmd, setup=strSetup,number = subloop)/subloop\n",
    "print(tt)"
   ]
  },
  {
   "cell_type": "markdown",
   "metadata": {},
   "source": [
    "#### ctypes DLL VC openmp"
   ]
  },
  {
   "cell_type": "code",
   "execution_count": 1,
   "metadata": {},
   "outputs": [
    {
     "name": "stdout",
     "output_type": "stream",
     "text": [
      "0.038975679999998646\n"
     ]
    }
   ],
   "source": [
    "from timeit import timeit \n",
    "from ctypes import *\n",
    "import numpy as np\n",
    "import numpy.ctypeslib as npct\n",
    "# dlllib = npct.load_library(\"calSquareRootAndSquare_DLL_gcc\",\".\")\n",
    "dlllib = CDLL(\"./calSRaddS_OMP.dll\")\n",
    "dlllib.calSquareRootAndSquare_DLL.argtypes = [c_int]\n",
    "N = 1000000\n",
    "def calSquareRootAndSquare_OMP(N):\n",
    "    global dlllib\n",
    "    # n = d.size\n",
    "    #m = np.zeros(n, dtype=np.float64)\n",
    "    # m = np.empty((n,), dtype=np.float64)\n",
    "    result = dlllib.calSquareRootAndSquare_DLL(N)\n",
    "    # print(result)\n",
    "    return result\n",
    "subloop = 20\n",
    "strCmd = \"calSquareRootAndSquare_OMP(N)\"\n",
    "# strSetup = 'from __main__ import {},data,winsize'.format(key) # data,winsize是传入的参数\n",
    "strSetup = 'from __main__ import calSquareRootAndSquare_OMP,N' # data,winsize是传入的参数\n",
    "\n",
    "tt = timeit(strCmd, setup=strSetup,number = subloop)/subloop\n",
    "print(tt)\n",
    "# 0.04"
   ]
  },
  {
   "cell_type": "code",
   "execution_count": 30,
   "metadata": {},
   "outputs": [
    {
     "name": "stdout",
     "output_type": "stream",
     "text": [
      "2527.19384185642\n",
      "2527.193841856420021940721198916435241699218750000000000000000000\n",
      "2527.19384185642\n",
      "2527.19384185642002194072119891643524169921875000000000000000000000000\n"
     ]
    }
   ],
   "source": [
    "import numpy as np\n",
    "import math\n",
    "n = 20\n",
    "ar1,ar2 = 0,0\n",
    "for i in range(n):\n",
    "    ar1 += math.sqrt(i) + math.pow(i,2)\n",
    "print(ar1)\n",
    "print(\"%.60f\" % ar1) \n",
    "for i in range(n):\n",
    "    ar2 += np.sqrt(i) + np.power(i,2)\n",
    "print(ar2)\n",
    "print(\"%.65f\" % ar2) \n"
   ]
  },
  {
   "cell_type": "code",
   "execution_count": 35,
   "metadata": {},
   "outputs": [
    {
     "name": "stdout",
     "output_type": "stream",
     "text": [
      "999998001000.9995\n",
      "999998001000.9995\n"
     ]
    }
   ],
   "source": [
    "def calSquareRootAndSquare(N):\n",
    "    result = np.zeros(N, dtype=np.float64)\n",
    "    for i in range(N):\n",
    "        result[i] = math.sqrt(i)+ math.pow(i,2)\n",
    "    return result\n",
    "N = 100*10000\n",
    "res = calSquareRootAndSquare(100*10000)\n",
    "print(res[100*10000-1])\n",
    "print(math.sqrt(N-1)+ math.pow(N-1,2))"
   ]
  },
  {
   "cell_type": "code",
   "execution_count": 5,
   "metadata": {},
   "outputs": [
    {
     "name": "stdout",
     "output_type": "stream",
     "text": [
      "[-7.47378868e+08 -7.45378887e+08 -7.43378904e+08 -7.41378919e+08\n",
      " -7.39378932e+08 -7.37378943e+08 -7.35378952e+08 -7.33378959e+08\n",
      " -7.31378964e+08 -7.29378967e+08]\n"
     ]
    }
   ],
   "source": [
    "import numpy as np\n",
    "\n",
    "def calSquareRootAndSquare_OP(N):\n",
    "    # x1 = np.array(range(N), dtype=float)\n",
    "    # x2 = np.array(range(N), dtype=float)\n",
    "    x1 = np.array(range(N))\n",
    "    x2 = np.array(range(N))\n",
    "    \n",
    "    x1 = np.sqrt(x1) \n",
    "    x2 = np.power(x2, 2)\n",
    "    \n",
    "    result = x1 + x2\n",
    "    return result\n",
    "\n",
    "# 示例用法\n",
    "result = calSquareRootAndSquare_OP(100*10000)\n",
    "print(result[-10:])"
   ]
  }
 ],
 "metadata": {
  "kernelspec": {
   "display_name": "Python 3",
   "language": "python",
   "name": "python3"
  },
  "language_info": {
   "codemirror_mode": {
    "name": "ipython",
    "version": 3
   },
   "file_extension": ".py",
   "mimetype": "text/x-python",
   "name": "python",
   "nbconvert_exporter": "python",
   "pygments_lexer": "ipython3",
   "version": "3.8.18"
  }
 },
 "nbformat": 4,
 "nbformat_minor": 2
}
